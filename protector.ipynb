{
 "cells": [
  {
   "cell_type": "code",
   "execution_count": null,
   "metadata": {},
   "outputs": [],
   "source": [
    "import bilisuite as bls"
   ]
  },
  {
   "cell_type": "markdown",
   "metadata": {},
   "source": [
    "### Crawl all comments from an uploader\n",
    "I used Honkai Impact 3rd official account as an example"
   ]
  },
  {
   "cell_type": "code",
   "execution_count": null,
   "metadata": {},
   "outputs": [],
   "source": [
    "# find the mid from uploader's profile page\n",
    "# ex. https://space.bilibili.com/27534330/\n",
    "bvid = bls.search.uploader('27534330')"
   ]
  },
  {
   "cell_type": "code",
   "execution_count": null,
   "metadata": {},
   "outputs": [],
   "source": [
    "bvid"
   ]
  },
  {
   "cell_type": "code",
   "execution_count": null,
   "metadata": {},
   "outputs": [],
   "source": [
    "# crawling comments takes a long time (10 hours for me to get it done)\n",
    "bls.tool.observer(bvid, 'honkai3rd')"
   ]
  },
  {
   "cell_type": "markdown",
   "metadata": {},
   "source": [
    "### Label the data on your own\n",
    "* Make sure you labelled at least 200 bad comment\n",
    "* I used '1' for comments that are against community rules and '0' for any others"
   ]
  },
  {
   "cell_type": "code",
   "execution_count": null,
   "metadata": {},
   "outputs": [],
   "source": [
    "import pandas as pd\n",
    "df = bls.process.std(pd.read_csv('train.csv'))\n",
    "train = pd.concat([df[df['rating']==i].sample(200) for i in [0,1]])"
   ]
  },
  {
   "cell_type": "code",
   "execution_count": null,
   "metadata": {},
   "outputs": [],
   "source": [
    "with open('stopword.txt') as file:\n",
    "    stopword = file.readline().split(',')"
   ]
  },
  {
   "cell_type": "code",
   "execution_count": null,
   "metadata": {},
   "outputs": [],
   "source": [
    "from sklearn.feature_extraction.text import CountVectorizer\n",
    "count = CountVectorizer(token_pattern='[\\u4e00-\\u9fa5]{1,}', stop_words=stopword)\n",
    "bow = count.fit_transform(train['comment'])"
   ]
  },
  {
   "cell_type": "code",
   "execution_count": null,
   "metadata": {},
   "outputs": [],
   "source": [
    "x = bow.toarray()\n",
    "y = train['rating']"
   ]
  },
  {
   "cell_type": "code",
   "execution_count": null,
   "metadata": {},
   "outputs": [],
   "source": [
    "from sklearn.model_selection import train_test_split\n",
    "x_train,x_test,y_train,y_test = train_test_split(x, y, test_size=0.1, random_state=6)"
   ]
  },
  {
   "cell_type": "code",
   "execution_count": null,
   "metadata": {},
   "outputs": [],
   "source": [
    "# train the model, try to get this above 85%\n",
    "from sklearn.svm import SVC\n",
    "lab = SVC()\n",
    "lab.fit(x_train, y_train)\n",
    "lab.score(x_test, y_test)"
   ]
  },
  {
   "cell_type": "code",
   "execution_count": null,
   "metadata": {},
   "outputs": [],
   "source": [
    "# convert the whole comment dataset, so that the modal understands\n",
    "comment = count.transform(df['comment']).toarray()\n",
    "\n",
    "# get the prediction and add to the main dataset\n",
    "df['predict'] = lab.predict(comment)\n",
    "\n",
    "# find the rpids that got a bad prediction on their comment\n",
    "target = df.loc[df['predict']==1, 'rpid']"
   ]
  },
  {
   "cell_type": "code",
   "execution_count": null,
   "metadata": {},
   "outputs": [],
   "source": [
    "# find it yourself from webpage, make sure you are logged in\n",
    "bls.setting.up(\n",
    "    cookie = \"\",\n",
    "    csrf = \"\"\n",
    ")"
   ]
  },
  {
   "cell_type": "code",
   "execution_count": null,
   "metadata": {},
   "outputs": [],
   "source": [
    "import time\n",
    "\n",
    "for rpid in target:\n",
    "    try:\n",
    "        print(rpid, end=': ')\n",
    "        code = bls.post.report(rpid)\n",
    "        print(bls.utils.code2msg(code))\n",
    "    except Exception as error:\n",
    "        print(error)\n",
    "    finally:\n",
    "        # don't speed it up\n",
    "        time.sleep(180)"
   ]
  }
 ],
 "metadata": {
  "kernelspec": {
   "display_name": "Python 3",
   "language": "python",
   "name": "python3"
  },
  "language_info": {
   "name": "python",
   "version": "3.11.6"
  }
 },
 "nbformat": 4,
 "nbformat_minor": 2
}
