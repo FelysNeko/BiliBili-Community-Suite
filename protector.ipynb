{
 "cells": [
  {
   "cell_type": "code",
   "execution_count": null,
   "metadata": {},
   "outputs": [],
   "source": [
    "from sklearn.feature_extraction.text import CountVectorizer\n",
    "# count = CountVectorizer(token_pattern='[\\u4e00-\\u9fa5]{1,}', stop_words=stopword)\n",
    "bow = count.fit_transform(train['comment'])"
   ]
  },
  {
   "cell_type": "code",
   "execution_count": null,
   "metadata": {},
   "outputs": [],
   "source": [
    "x = bow.toarray()\n",
    "y = train['rating']"
   ]
  },
  {
   "cell_type": "code",
   "execution_count": null,
   "metadata": {},
   "outputs": [],
   "source": [
    "from sklearn.model_selection import train_test_split\n",
    "x_train,x_test,y_train,y_test = train_test_split(x, y, test_size=0.1, random_state=6)"
   ]
  },
  {
   "cell_type": "code",
   "execution_count": null,
   "metadata": {},
   "outputs": [],
   "source": [
    "# train the model, try to get this above 85%\n",
    "from sklearn.svm import SVC\n",
    "lab = SVC()\n",
    "lab.fit(x_train, y_train)\n",
    "lab.score(x_test, y_test)"
   ]
  },
  {
   "cell_type": "code",
   "execution_count": null,
   "metadata": {},
   "outputs": [],
   "source": [
    "# convert the whole comment dataset, so that the modal understands\n",
    "comment = count.transform(df['comment']).toarray()\n",
    "\n",
    "# get the prediction and add to the main dataset\n",
    "df['predict'] = lab.predict(comment)\n",
    "\n",
    "# find the rpids that got a bad prediction on their comment\n",
    "target = df.loc[df['predict']==1, 'rpid']"
   ]
  }
 ],
 "metadata": {
  "kernelspec": {
   "display_name": "Python 3",
   "language": "python",
   "name": "python3"
  },
  "language_info": {
   "name": "python",
   "version": "3.12.2"
  }
 },
 "nbformat": 4,
 "nbformat_minor": 2
}
